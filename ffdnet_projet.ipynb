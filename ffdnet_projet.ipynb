{
  "cells": [
    {
      "cell_type": "markdown",
      "metadata": {
        "id": "view-in-github",
        "colab_type": "text"
      },
      "source": [
        "<a href=\"https://colab.research.google.com/github/thehungtran/FFDnet_clone/blob/main/ffdnet_projet.ipynb\" target=\"_parent\"><img src=\"https://colab.research.google.com/assets/colab-badge.svg\" alt=\"Open In Colab\"/></a>"
      ]
    },
    {
      "cell_type": "markdown",
      "metadata": {
        "id": "3rfKGPGv7Gq0"
      },
      "source": [
        "# 0. Imports requirements\n",
        "Allow GPU by *Execution - Modify execution type - GPU*"
      ]
    },
    {
      "cell_type": "code",
      "execution_count": 1,
      "metadata": {
        "id": "soYzFIy57Gq4",
        "pycharm": {
          "name": "#%%\n"
        }
      },
      "outputs": [],
      "source": [
        "from google.colab import drive\n",
        "import os, glob\n",
        "import numpy as np\n",
        "import matplotlib.pyplot as plt\n",
        "from PIL import Image\n",
        "from glob import glob\n",
        "from skimage.metrics import structural_similarity as ssim\n",
        "import cv2\n"
      ]
    },
    {
      "cell_type": "markdown",
      "metadata": {
        "id": "aFWqlcSH7Grz"
      },
      "source": [
        "# 1. Run a test"
      ]
    },
    {
      "cell_type": "code",
      "execution_count": 2,
      "metadata": {
        "colab": {
          "base_uri": "https://localhost:8080/"
        },
        "id": "T5PLwMraCmkZ",
        "pycharm": {
          "name": "#%%\n"
        },
        "outputId": "97a572b4-19d1-4b2c-be29-433ce01a4c1d"
      },
      "outputs": [
        {
          "output_type": "stream",
          "name": "stdout",
          "text": [
            "python3: can't open file '/content/FFDNet_projet/test_ffdnet_ipol.py': [Errno 2] No such file or directory\n"
          ]
        }
      ],
      "source": [
        "! python /content/FFDNet_projet/test_ffdnet_ipol.py \\\n",
        "\t--input /content/FFDNet_projet/test/lely.png \\\n",
        "\t--noise_sigma 25 \\\n",
        "\t--add_noise True"
      ]
    },
    {
      "cell_type": "markdown",
      "metadata": {
        "id": "uEIzz3fK5f-g"
      },
      "source": [
        "# 2. Training"
      ]
    },
    {
      "cell_type": "markdown",
      "metadata": {
        "id": "TBKWdxH9lBX9"
      },
      "source": [
        "## 1. Prepare dataset"
      ]
    },
    {
      "cell_type": "code",
      "execution_count": 3,
      "metadata": {
        "colab": {
          "base_uri": "https://localhost:8080/"
        },
        "id": "k58OY9B0lF1C",
        "outputId": "e4b8f6ff-d9a4-4708-dc7c-fbd4798ee8a8"
      },
      "outputs": [
        {
          "output_type": "stream",
          "name": "stdout",
          "text": [
            "python3: can't open file '/content/FFDNet_projet/prepare_patches.py': [Errno 2] No such file or directory\n"
          ]
        }
      ],
      "source": [
        "! python /content/FFDNet_projet/prepare_patches.py \\\n",
        "\t--trainset_dir /content/FFDNet_projet/training/ \\\n",
        "\t--valset_dir /content/FFDNet_projet/test/ \\\n",
        "  --gray \\\n",
        "  --max_number_patches 128 # this can be suppressed, I just set it to run a quick training\n"
      ]
    },
    {
      "cell_type": "code",
      "execution_count": null,
      "metadata": {
        "id": "IoiGU8TlhkZi"
      },
      "outputs": [],
      "source": [
        "drive.mount('Drive')"
      ]
    },
    {
      "cell_type": "code",
      "execution_count": null,
      "metadata": {
        "id": "pqjfDSGE5ELw"
      },
      "outputs": [],
      "source": [
        "! mkdir /content/Drive/My\\ Drive/ffdnetmodel/ #network weights are stored here"
      ]
    },
    {
      "cell_type": "code",
      "execution_count": null,
      "metadata": {
        "id": "WL0DoCtvnFHo"
      },
      "outputs": [],
      "source": [
        "! pip install tensorboardX"
      ]
    },
    {
      "cell_type": "code",
      "execution_count": null,
      "metadata": {
        "id": "d4MeCrCIDCT8"
      },
      "outputs": [],
      "source": [
        "! python /content/FFDNet_projet/train.py \\\n",
        "\t--batch_size 128 \\\n",
        "\t--epochs 80 \\\n",
        "\t--noiseIntL 0 75 \\\n",
        "\t--val_noiseL 25 \\\n",
        "  --log_dir /content/Drive/My\\ Drive/ffdnetmodel/ \\\n",
        "  --gray"
      ]
    },
    {
      "cell_type": "markdown",
      "metadata": {
        "id": "k6qRNwFsmbG6"
      },
      "source": [
        "**NOTES**\n",
        "* The training process can be monitored with TensorBoard as logs get saved\n",
        "in the *log_dir* folder\n",
        "* By default, models are trained for values of noise in [0, 75] (*--noiseIntL*\n",
        "flag)\n",
        "* By default, noise added at validation is set to 20 (*--val_noiseL* flag)\n",
        "* A previous training can be resumed passing the *--resume_training* flag"
      ]
    }
  ],
  "metadata": {
    "accelerator": "GPU",
    "colab": {
      "name": "ffdnet_projet.ipynb",
      "provenance": [],
      "toc_visible": true,
      "include_colab_link": true
    },
    "kernelspec": {
      "display_name": "Python 3 (ipykernel)",
      "language": "python",
      "name": "python3"
    },
    "language_info": {
      "codemirror_mode": {
        "name": "ipython",
        "version": 3
      },
      "file_extension": ".py",
      "mimetype": "text/x-python",
      "name": "python",
      "nbconvert_exporter": "python",
      "pygments_lexer": "ipython3",
      "version": "3.11.0"
    }
  },
  "nbformat": 4,
  "nbformat_minor": 0
}