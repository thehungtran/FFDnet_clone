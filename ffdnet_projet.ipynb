{
 "cells": [
  {
   "cell_type": "markdown",
   "metadata": {
    "colab_type": "text",
    "id": "view-in-github"
   },
   "source": [
    "<a href=\"https://colab.research.google.com/github/emanueledalsasso/FFDNet_projet/blob/master/ffdnet_projet.ipynb\" target=\"_parent\"><img src=\"https://colab.research.google.com/assets/colab-badge.svg\" alt=\"Open In Colab\"/></a>"
   ]
  },
  {
   "cell_type": "markdown",
   "metadata": {
    "colab_type": "text",
    "id": "3rfKGPGv7Gq0"
   },
   "source": [
    "# 0. Imports requirements\n",
    "Allow GPU by *Execution - Modify execution type - GPU*"
   ]
  },
  {
   "cell_type": "code",
   "execution_count": 1,
   "metadata": {
    "colab": {},
    "colab_type": "code",
    "id": "soYzFIy57Gq4",
    "pycharm": {
     "name": "#%%\n"
    }
   },
   "outputs": [
    {
     "ename": "ModuleNotFoundError",
     "evalue": "No module named 'google.colab'",
     "output_type": "error",
     "traceback": [
      "\u001b[1;31m---------------------------------------------------------------------------\u001b[0m",
      "\u001b[1;31mModuleNotFoundError\u001b[0m                       Traceback (most recent call last)",
      "Cell \u001b[1;32mIn [1], line 1\u001b[0m\n\u001b[1;32m----> 1\u001b[0m \u001b[38;5;28;01mfrom\u001b[39;00m \u001b[38;5;21;01mgoogle\u001b[39;00m\u001b[38;5;21;01m.\u001b[39;00m\u001b[38;5;21;01mcolab\u001b[39;00m \u001b[38;5;28;01mimport\u001b[39;00m drive\n\u001b[0;32m      2\u001b[0m \u001b[38;5;28;01mimport\u001b[39;00m \u001b[38;5;21;01mos\u001b[39;00m\u001b[38;5;241m,\u001b[39m \u001b[38;5;21;01mglob\u001b[39;00m\n\u001b[0;32m      3\u001b[0m \u001b[38;5;28;01mimport\u001b[39;00m \u001b[38;5;21;01mnumpy\u001b[39;00m \u001b[38;5;28;01mas\u001b[39;00m \u001b[38;5;21;01mnp\u001b[39;00m\n",
      "\u001b[1;31mModuleNotFoundError\u001b[0m: No module named 'google.colab'"
     ]
    }
   ],
   "source": [
    "from google.colab import drive\n",
    "import os, glob\n",
    "import numpy as np\n",
    "import matplotlib.pyplot as plt\n",
    "from PIL import Image\n",
    "from glob import glob\n",
    "from skimage.metrics import structural_similarity as ssim\n",
    "import cv2\n"
   ]
  },
  {
   "cell_type": "markdown",
   "metadata": {
    "colab_type": "text",
    "id": "aFWqlcSH7Grz"
   },
   "source": [
    "# 1. Run a test"
   ]
  },
  {
   "cell_type": "code",
   "execution_count": 0,
   "metadata": {
    "colab": {},
    "colab_type": "code",
    "id": "4INXz3I77Gr2",
    "pycharm": {
     "name": "#%%\n"
    }
   },
   "outputs": [],
   "source": [
    "! git clone https://github.com/emanueledalsasso/FFDNet_projet.git"
   ]
  },
  {
   "cell_type": "code",
   "execution_count": 0,
   "metadata": {
    "colab": {},
    "colab_type": "code",
    "id": "T5PLwMraCmkZ",
    "pycharm": {
     "name": "#%%\n"
    }
   },
   "outputs": [],
   "source": [
    "! python /content/FFDNet_projet/test_ffdnet_ipol.py \\\n",
    "\t--input /content/FFDNet_projet/test/lely.png \\\n",
    "\t--noise_sigma 25 \\\n",
    "\t--add_noise True"
   ]
  },
  {
   "cell_type": "markdown",
   "metadata": {
    "colab_type": "text",
    "id": "uEIzz3fK5f-g"
   },
   "source": [
    "# 2. Training"
   ]
  },
  {
   "cell_type": "markdown",
   "metadata": {
    "colab_type": "text",
    "id": "TBKWdxH9lBX9"
   },
   "source": [
    "## 1. Prepare dataset"
   ]
  },
  {
   "cell_type": "code",
   "execution_count": 0,
   "metadata": {
    "colab": {},
    "colab_type": "code",
    "id": "k58OY9B0lF1C"
   },
   "outputs": [],
   "source": [
    "! python /content/FFDNet_projet/prepare_patches.py \\\n",
    "\t--trainset_dir /content/FFDNet_projet/training/ \\\n",
    "\t--valset_dir /content/FFDNet_projet/test/ \\\n",
    "  --gray \\\n",
    "  --max_number_patches 128 # this can be suppressed, I just set it to run a quick training\n"
   ]
  },
  {
   "cell_type": "code",
   "execution_count": 0,
   "metadata": {
    "colab": {},
    "colab_type": "code",
    "id": "IoiGU8TlhkZi"
   },
   "outputs": [],
   "source": [
    "drive.mount('Drive')"
   ]
  },
  {
   "cell_type": "code",
   "execution_count": 0,
   "metadata": {
    "colab": {},
    "colab_type": "code",
    "id": "pqjfDSGE5ELw"
   },
   "outputs": [],
   "source": [
    "! mkdir /content/Drive/My\\ Drive/ffdnetmodel/ #network weights are stored here"
   ]
  },
  {
   "cell_type": "code",
   "execution_count": 0,
   "metadata": {
    "colab": {},
    "colab_type": "code",
    "id": "WL0DoCtvnFHo"
   },
   "outputs": [],
   "source": [
    "! pip install tensorboardX"
   ]
  },
  {
   "cell_type": "code",
   "execution_count": 0,
   "metadata": {
    "colab": {},
    "colab_type": "code",
    "id": "d4MeCrCIDCT8"
   },
   "outputs": [],
   "source": [
    "! python /content/FFDNet_projet/train.py \\\n",
    "\t--batch_size 128 \\\n",
    "\t--epochs 80 \\\n",
    "\t--noiseIntL 0 75 \\\n",
    "\t--val_noiseL 25 \\\n",
    "  --log_dir /content/Drive/My\\ Drive/ffdnetmodel/ \\\n",
    "  --gray"
   ]
  },
  {
   "cell_type": "markdown",
   "metadata": {
    "colab_type": "text",
    "id": "k6qRNwFsmbG6"
   },
   "source": [
    "**NOTES**\n",
    "* The training process can be monitored with TensorBoard as logs get saved\n",
    "in the *log_dir* folder\n",
    "* By default, models are trained for values of noise in [0, 75] (*--noiseIntL*\n",
    "flag)\n",
    "* By default, noise added at validation is set to 20 (*--val_noiseL* flag)\n",
    "* A previous training can be resumed passing the *--resume_training* flag"
   ]
  }
 ],
 "metadata": {
  "accelerator": "GPU",
  "colab": {
   "include_colab_link": true,
   "name": "ffdnet_projet.ipynb",
   "provenance": [],
   "toc_visible": true
  },
  "kernelspec": {
   "display_name": "Python 3 (ipykernel)",
   "language": "python",
   "name": "python3"
  },
  "language_info": {
   "codemirror_mode": {
    "name": "ipython",
    "version": 3
   },
   "file_extension": ".py",
   "mimetype": "text/x-python",
   "name": "python",
   "nbconvert_exporter": "python",
   "pygments_lexer": "ipython3",
   "version": "3.11.0"
  }
 },
 "nbformat": 4,
 "nbformat_minor": 1
}
