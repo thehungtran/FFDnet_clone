{
  "cells": [
    {
      "cell_type": "markdown",
      "metadata": {
        "id": "view-in-github",
        "colab_type": "text"
      },
      "source": [
        "<a href=\"https://colab.research.google.com/github/thehungtran/FFDnet_clone/blob/main/ffdnet_projet.ipynb\" target=\"_parent\"><img src=\"https://colab.research.google.com/assets/colab-badge.svg\" alt=\"Open In Colab\"/></a>"
      ]
    },
    {
      "cell_type": "markdown",
      "metadata": {
        "id": "3rfKGPGv7Gq0"
      },
      "source": [
        "# 0. Imports requirements\n",
        "Allow GPU by *Execution - Modify execution type - GPU*"
      ]
    },
    {
      "cell_type": "code",
      "execution_count": 1,
      "metadata": {
        "id": "soYzFIy57Gq4",
        "pycharm": {
          "name": "#%%\n"
        }
      },
      "outputs": [],
      "source": [
        "from google.colab import drive\n",
        "import os, glob\n",
        "import numpy as np\n",
        "import matplotlib.pyplot as plt\n",
        "from PIL import Image\n",
        "from glob import glob\n",
        "from skimage.metrics import structural_similarity as ssim\n",
        "import cv2\n"
      ]
    },
    {
      "cell_type": "code",
      "source": [
        "! git clone https://github.com/thehungtran/FFDnet_clone.git"
      ],
      "metadata": {
        "colab": {
          "base_uri": "https://localhost:8080/"
        },
        "id": "Y4YBal0ca83N",
        "outputId": "a4d88a8c-be41-4521-9913-ed354bf6f124"
      },
      "execution_count": 5,
      "outputs": [
        {
          "output_type": "stream",
          "name": "stdout",
          "text": [
            "Cloning into 'FFDnet_clone'...\n",
            "remote: Enumerating objects: 489, done.\u001b[K\n",
            "remote: Counting objects: 100% (489/489), done.\u001b[K\n",
            "remote: Compressing objects: 100% (487/487), done.\u001b[K\n",
            "remote: Total 489 (delta 20), reused 0 (delta 0), pack-reused 0 (from 0)\u001b[K\n",
            "Receiving objects: 100% (489/489), 16.03 MiB | 28.49 MiB/s, done.\n",
            "Resolving deltas: 100% (20/20), done.\n"
          ]
        }
      ]
    },
    {
      "cell_type": "markdown",
      "metadata": {
        "id": "aFWqlcSH7Grz"
      },
      "source": [
        "# 1. Run a test"
      ]
    },
    {
      "cell_type": "code",
      "execution_count": 7,
      "metadata": {
        "colab": {
          "base_uri": "https://localhost:8080/"
        },
        "id": "T5PLwMraCmkZ",
        "pycharm": {
          "name": "#%%\n"
        },
        "outputId": "44c83aba-9159-4164-f767-7f7b4ed4914f"
      },
      "outputs": [
        {
          "output_type": "stream",
          "name": "stdout",
          "text": [
            "\n",
            "### Testing FFDNet model ###\n",
            "> Parameters:\n",
            "\tadd_noise: True\n",
            "\tinput: /content/FFDnet_clone/test/test001.png\n",
            "\tsuffix: \n",
            "\tnoise_sigma: 0.09803921568627451\n",
            "\tdont_save_results: False\n",
            "\tno_gpu: False\n",
            "\tcuda: True\n",
            "\n",
            "\n",
            "rgb: False\n",
            "im shape: (481, 321)\n",
            "Loading model ...\n",
            "\n",
            "Traceback (most recent call last):\n",
            "  File \"/content/FFDnet_clone/test_ffdnet_ipol.py\", line 193, in <module>\n",
            "    test_ffdnet(**vars(argspar))\n",
            "  File \"/content/FFDnet_clone/test_ffdnet_ipol.py\", line 82, in test_ffdnet\n",
            "    state_dict = torch.load(model_fn)\n",
            "                 ^^^^^^^^^^^^^^^^^^^^\n",
            "  File \"/usr/local/lib/python3.11/dist-packages/torch/serialization.py\", line 1425, in load\n",
            "    with _open_file_like(f, \"rb\") as opened_file:\n",
            "         ^^^^^^^^^^^^^^^^^^^^^^^^\n",
            "  File \"/usr/local/lib/python3.11/dist-packages/torch/serialization.py\", line 751, in _open_file_like\n",
            "    return _open_file(name_or_buffer, mode)\n",
            "           ^^^^^^^^^^^^^^^^^^^^^^^^^^^^^^^^\n",
            "  File \"/usr/local/lib/python3.11/dist-packages/torch/serialization.py\", line 732, in __init__\n",
            "    super().__init__(open(name, mode))\n",
            "                     ^^^^^^^^^^^^^^^^\n",
            "FileNotFoundError: [Errno 2] No such file or directory: '/content/FFDnet_clone/models/net_gray.pth'\n"
          ]
        }
      ],
      "source": [
        "! python /content/FFDnet_clone/test_ffdnet_ipol.py \\\n",
        "\t--input /content/FFDnet_clone/test/test001.png \\\n",
        "\t--noise_sigma 25 \\\n",
        "\t--add_noise True"
      ]
    },
    {
      "cell_type": "markdown",
      "metadata": {
        "id": "uEIzz3fK5f-g"
      },
      "source": [
        "# 2. Training"
      ]
    },
    {
      "cell_type": "markdown",
      "metadata": {
        "id": "TBKWdxH9lBX9"
      },
      "source": [
        "## 1. Prepare dataset"
      ]
    },
    {
      "cell_type": "code",
      "execution_count": 8,
      "metadata": {
        "colab": {
          "base_uri": "https://localhost:8080/"
        },
        "id": "k58OY9B0lF1C",
        "outputId": "c5038a86-05ce-4ac2-fc98-b783d61018c6"
      },
      "outputs": [
        {
          "output_type": "stream",
          "name": "stdout",
          "text": [
            "\n",
            "### Building databases ###\n",
            "> Parameters:\n",
            "\tgray: True\n",
            "\tpatch_size: 44\n",
            "\tstride: 20\n",
            "\tmax_number_patches: 128\n",
            "\taug_times: 1\n",
            "\ttrainset_dir: /content/FFDnet_clone/training/\n",
            "\tvalset_dir: /content/FFDnet_clone/test/\n",
            "\n",
            "\n",
            "> Training database\n",
            "\tMaximum number of patches set to 128\n",
            "\tfile: /content/FFDnet_clone/training/test_001.png scale 1.0 # samples: 49\n",
            "\tfile: /content/FFDnet_clone/training/test_001.png scale 0.9 # samples: 36\n",
            "\tfile: /content/FFDnet_clone/training/test_001.png scale 0.8 # samples: 36\n",
            "\tfile: /content/FFDnet_clone/training/test_001.png scale 0.7 # samples: 25\n",
            "\n",
            "> Validation database\n",
            "\tfile: /content/FFDnet_clone/test/test001.png\n",
            "\tfile: /content/FFDnet_clone/test/test002.png\n",
            "\tfile: /content/FFDnet_clone/test/test003.png\n",
            "\tfile: /content/FFDnet_clone/test/test004.png\n",
            "\tfile: /content/FFDnet_clone/test/test005.png\n",
            "\tfile: /content/FFDnet_clone/test/test006.png\n",
            "\tfile: /content/FFDnet_clone/test/test007.png\n",
            "\tfile: /content/FFDnet_clone/test/test008.png\n",
            "\tfile: /content/FFDnet_clone/test/test009.png\n",
            "\tfile: /content/FFDnet_clone/test/test010.png\n",
            "\tfile: /content/FFDnet_clone/test/test011.png\n",
            "\tfile: /content/FFDnet_clone/test/test012.png\n",
            "\tfile: /content/FFDnet_clone/test/test013.png\n",
            "\tfile: /content/FFDnet_clone/test/test014.png\n",
            "\tfile: /content/FFDnet_clone/test/test015.png\n",
            "\tfile: /content/FFDnet_clone/test/test016.png\n",
            "\tfile: /content/FFDnet_clone/test/test017.png\n",
            "\tfile: /content/FFDnet_clone/test/test018.png\n",
            "\tfile: /content/FFDnet_clone/test/test019.png\n",
            "\tfile: /content/FFDnet_clone/test/test020.png\n",
            "\tfile: /content/FFDnet_clone/test/test021.png\n",
            "\tfile: /content/FFDnet_clone/test/test022.png\n",
            "\tfile: /content/FFDnet_clone/test/test023.png\n",
            "\tfile: /content/FFDnet_clone/test/test024.png\n",
            "\tfile: /content/FFDnet_clone/test/test025.png\n",
            "\tfile: /content/FFDnet_clone/test/test026.png\n",
            "\tfile: /content/FFDnet_clone/test/test027.png\n",
            "\tfile: /content/FFDnet_clone/test/test028.png\n",
            "\tfile: /content/FFDnet_clone/test/test029.png\n",
            "\tfile: /content/FFDnet_clone/test/test030.png\n",
            "\tfile: /content/FFDnet_clone/test/test031.png\n",
            "\tfile: /content/FFDnet_clone/test/test032.png\n",
            "\tfile: /content/FFDnet_clone/test/test033.png\n",
            "\tfile: /content/FFDnet_clone/test/test034.png\n",
            "\tfile: /content/FFDnet_clone/test/test035.png\n",
            "\tfile: /content/FFDnet_clone/test/test036.png\n",
            "\tfile: /content/FFDnet_clone/test/test037.png\n",
            "\tfile: /content/FFDnet_clone/test/test038.png\n",
            "\tfile: /content/FFDnet_clone/test/test039.png\n",
            "\tfile: /content/FFDnet_clone/test/test040.png\n",
            "\tfile: /content/FFDnet_clone/test/test041.png\n",
            "\tfile: /content/FFDnet_clone/test/test042.png\n",
            "\tfile: /content/FFDnet_clone/test/test043.png\n",
            "\tfile: /content/FFDnet_clone/test/test044.png\n",
            "\tfile: /content/FFDnet_clone/test/test045.png\n",
            "\tfile: /content/FFDnet_clone/test/test046.png\n",
            "\tfile: /content/FFDnet_clone/test/test047.png\n",
            "\tfile: /content/FFDnet_clone/test/test048.png\n",
            "\tfile: /content/FFDnet_clone/test/test049.png\n",
            "\tfile: /content/FFDnet_clone/test/test050.png\n",
            "\tfile: /content/FFDnet_clone/test/test051.png\n",
            "\tfile: /content/FFDnet_clone/test/test052.png\n",
            "\tfile: /content/FFDnet_clone/test/test053.png\n",
            "\tfile: /content/FFDnet_clone/test/test054.png\n",
            "\tfile: /content/FFDnet_clone/test/test055.png\n",
            "\tfile: /content/FFDnet_clone/test/test056.png\n",
            "\tfile: /content/FFDnet_clone/test/test057.png\n",
            "\tfile: /content/FFDnet_clone/test/test058.png\n",
            "\tfile: /content/FFDnet_clone/test/test059.png\n",
            "\tfile: /content/FFDnet_clone/test/test060.png\n",
            "\tfile: /content/FFDnet_clone/test/test061.png\n",
            "\tfile: /content/FFDnet_clone/test/test062.png\n",
            "\tfile: /content/FFDnet_clone/test/test063.png\n",
            "\tfile: /content/FFDnet_clone/test/test064.png\n",
            "\tfile: /content/FFDnet_clone/test/test065.png\n",
            "\tfile: /content/FFDnet_clone/test/test066.png\n",
            "\tfile: /content/FFDnet_clone/test/test067.png\n",
            "\tfile: /content/FFDnet_clone/test/test068.png\n",
            "\n",
            "> Total\n",
            "\ttraining set, # samples 146\n",
            "\tvalidation set, # samples 68\n",
            "\n"
          ]
        }
      ],
      "source": [
        "! python /content/FFDnet_clone/prepare_patches.py \\\n",
        "\t--trainset_dir /content/FFDnet_clone/training/ \\\n",
        "\t--valset_dir /content/FFDnet_clone/test/ \\\n",
        "  --gray \\\n",
        "  --max_number_patches 128 # this can be suppressed, I just set it to run a quick training\n"
      ]
    },
    {
      "cell_type": "code",
      "execution_count": 10,
      "metadata": {
        "colab": {
          "base_uri": "https://localhost:8080/"
        },
        "id": "IoiGU8TlhkZi",
        "outputId": "05e795b1-fc42-401b-d55b-352c9c2da0c2"
      },
      "outputs": [
        {
          "output_type": "stream",
          "name": "stdout",
          "text": [
            "Mounted at Drive\n"
          ]
        }
      ],
      "source": [
        "drive.mount('Drive')"
      ]
    },
    {
      "cell_type": "code",
      "execution_count": 11,
      "metadata": {
        "colab": {
          "base_uri": "https://localhost:8080/"
        },
        "id": "pqjfDSGE5ELw",
        "outputId": "10116b4f-ccc8-42ba-c8a3-c5f3071b10a7"
      },
      "outputs": [
        {
          "output_type": "stream",
          "name": "stdout",
          "text": [
            "mkdir: cannot create directory ‘/content/Drive/My Drive/ffdnetmodel/’: File exists\n"
          ]
        }
      ],
      "source": [
        "! mkdir /content/Drive/My\\ Drive/ffdnetmodel/ #network weights are stored here"
      ]
    },
    {
      "cell_type": "code",
      "execution_count": 9,
      "metadata": {
        "colab": {
          "base_uri": "https://localhost:8080/"
        },
        "id": "WL0DoCtvnFHo",
        "outputId": "5a5dbc33-e1e5-4592-fa2a-5445a0511b7e"
      },
      "outputs": [
        {
          "output_type": "stream",
          "name": "stdout",
          "text": [
            "Collecting tensorboardX\n",
            "  Downloading tensorboardx-2.6.4-py3-none-any.whl.metadata (6.2 kB)\n",
            "Requirement already satisfied: numpy in /usr/local/lib/python3.11/dist-packages (from tensorboardX) (2.0.2)\n",
            "Requirement already satisfied: packaging in /usr/local/lib/python3.11/dist-packages (from tensorboardX) (24.2)\n",
            "Requirement already satisfied: protobuf>=3.20 in /usr/local/lib/python3.11/dist-packages (from tensorboardX) (5.29.5)\n",
            "Downloading tensorboardx-2.6.4-py3-none-any.whl (87 kB)\n",
            "\u001b[?25l   \u001b[90m━━━━━━━━━━━━━━━━━━━━━━━━━━━━━━━━━━━━━━━━\u001b[0m \u001b[32m0.0/87.2 kB\u001b[0m \u001b[31m?\u001b[0m eta \u001b[36m-:--:--\u001b[0m\r\u001b[2K   \u001b[90m━━━━━━━━━━━━━━━━━━━━━━━━━━━━━━━━━━━━━━━━\u001b[0m \u001b[32m87.2/87.2 kB\u001b[0m \u001b[31m5.3 MB/s\u001b[0m eta \u001b[36m0:00:00\u001b[0m\n",
            "\u001b[?25hInstalling collected packages: tensorboardX\n",
            "Successfully installed tensorboardX-2.6.4\n"
          ]
        }
      ],
      "source": [
        "! pip install tensorboardX"
      ]
    },
    {
      "cell_type": "code",
      "execution_count": 12,
      "metadata": {
        "colab": {
          "base_uri": "https://localhost:8080/"
        },
        "id": "d4MeCrCIDCT8",
        "outputId": "95d0915d-3dd3-4521-9ae7-9f5d0781dea6"
      },
      "outputs": [
        {
          "output_type": "stream",
          "name": "stdout",
          "text": [
            "\n",
            "### Training FFDNet model ###\n",
            "> Parameters:\n",
            "\tgray: True\n",
            "\tlog_dir: /content/Drive/My Drive/ffdnetmodel/\n",
            "\tbatch_size: 128\n",
            "\tepochs: 80\n",
            "\tresume_training: False\n",
            "\tmilestone: [50, 60]\n",
            "\tlr: 0.001\n",
            "\tno_orthog: False\n",
            "\tsave_every: 10\n",
            "\tsave_every_epochs: 5\n",
            "\tnoiseIntL: [0.0, 0.29411764705882354]\n",
            "\tval_noiseL: 0.09803921568627451\n",
            "\n",
            "\n",
            "> Loading dataset ...\n",
            "/usr/local/lib/python3.11/dist-packages/torch/utils/data/dataloader.py:624: UserWarning: This DataLoader will create 6 worker processes in total. Our suggested max number of worker in current system is 2, which is smaller than what this DataLoader is going to create. Please be aware that excessive worker creation might get DataLoader running slow or even freeze, lower the worker number to avoid potential slowness/freeze if necessary.\n",
            "  warnings.warn(\n",
            "\t# of training samples: 146\n",
            "\n",
            "fatal: not a git repository (or any of the parent directories): .git\n",
            "/content/FFDnet_clone/utils.py:33: FutureWarning: `nn.init.kaiming_normal` is now deprecated in favor of `nn.init.kaiming_normal_`.\n",
            "  nn.init.kaiming_normal(lyr.weight.data, a=0, mode='fan_in')\n",
            "/content/FFDnet_clone/utils.py:39: FutureWarning: `nn.init.constant` is now deprecated in favor of `nn.init.constant_`.\n",
            "  nn.init.constant(lyr.bias.data, 0.0)\n",
            "/usr/local/lib/python3.11/dist-packages/torch/nn/_reduction.py:51: UserWarning: size_average and reduce args will be deprecated, please use reduction='sum' instead.\n",
            "  warnings.warn(warning.format(ret))\n",
            "learning rate 0.001000\n",
            "/usr/local/lib/python3.11/dist-packages/torch/utils/data/dataloader.py:624: UserWarning: This DataLoader will create 6 worker processes in total. Our suggested max number of worker in current system is 2, which is smaller than what this DataLoader is going to create. Please be aware that excessive worker creation might get DataLoader running slow or even freeze, lower the worker number to avoid potential slowness/freeze if necessary.\n",
            "  warnings.warn(\n",
            "/content/FFDnet_clone/train.py:150: UserWarning: The torch.cuda.*DtypeTensor constructors are no longer recommended. It's best to use methods such as torch.tensor(data, dtype=*, device='cuda') to create tensors. (Triggered internally at /pytorch/torch/csrc/tensor/python_tensor.cpp:78.)\n",
            "  stdn_var = Variable(torch.cuda.FloatTensor(stdn))\n",
            "Traceback (most recent call last):\n",
            "  File \"/content/FFDnet_clone/train.py\", line 278, in <module>\n",
            "    main(argspar)\n",
            "  File \"/content/FFDnet_clone/train.py\", line 153, in main\n",
            "    out_train = model(imgn_train, stdn_var)\n",
            "                ^^^^^^^^^^^^^^^^^^^^^^^^^^^\n",
            "  File \"/usr/local/lib/python3.11/dist-packages/torch/nn/modules/module.py\", line 1739, in _wrapped_call_impl\n",
            "    return self._call_impl(*args, **kwargs)\n",
            "           ^^^^^^^^^^^^^^^^^^^^^^^^^^^^^^^^\n",
            "  File \"/usr/local/lib/python3.11/dist-packages/torch/nn/modules/module.py\", line 1750, in _call_impl\n",
            "    return forward_call(*args, **kwargs)\n",
            "           ^^^^^^^^^^^^^^^^^^^^^^^^^^^^^\n",
            "  File \"/usr/local/lib/python3.11/dist-packages/torch/nn/parallel/data_parallel.py\", line 191, in forward\n",
            "    return self.module(*inputs[0], **module_kwargs[0])\n",
            "           ^^^^^^^^^^^^^^^^^^^^^^^^^^^^^^^^^^^^^^^^^^^\n",
            "  File \"/usr/local/lib/python3.11/dist-packages/torch/nn/modules/module.py\", line 1739, in _wrapped_call_impl\n",
            "    return self._call_impl(*args, **kwargs)\n",
            "           ^^^^^^^^^^^^^^^^^^^^^^^^^^^^^^^^\n",
            "  File \"/usr/local/lib/python3.11/dist-packages/torch/nn/modules/module.py\", line 1750, in _call_impl\n",
            "    return forward_call(*args, **kwargs)\n",
            "           ^^^^^^^^^^^^^^^^^^^^^^^^^^^^^\n",
            "  File \"/content/FFDnet_clone/models.py\", line 96, in forward\n",
            "    concat_noise_x = functions.concatenate_input_noise_map(\\\n",
            "                     ^^^^^^^^^^^^^^^^^^^^^^^^^^^^^^^^^^^^^^^\n",
            "  File \"/content/FFDnet_clone/functions.py\", line 53, in concatenate_input_noise_map\n",
            "    return torch.cat((noise_map, downsampledfeatures), 1)\n",
            "           ^^^^^^^^^^^^^^^^^^^^^^^^^^^^^^^^^^^^^^^^^^^^^^\n",
            "RuntimeError: Expected all tensors to be on the same device, but found at least two devices, cuda:0 and cpu! (when checking argument for argument tensors in method wrapper_CUDA_cat)\n"
          ]
        }
      ],
      "source": [
        "! python /content/FFDnet_clone/train.py \\\n",
        "\t--batch_size 128 \\\n",
        "\t--epochs 80 \\\n",
        "\t--noiseIntL 0 75 \\\n",
        "\t--val_noiseL 25 \\\n",
        "  --log_dir /content/Drive/My\\ Drive/ffdnetmodel/ \\\n",
        "  --gray"
      ]
    },
    {
      "cell_type": "markdown",
      "metadata": {
        "id": "k6qRNwFsmbG6"
      },
      "source": [
        "**NOTES**\n",
        "* The training process can be monitored with TensorBoard as logs get saved\n",
        "in the *log_dir* folder\n",
        "* By default, models are trained for values of noise in [0, 75] (*--noiseIntL*\n",
        "flag)\n",
        "* By default, noise added at validation is set to 20 (*--val_noiseL* flag)\n",
        "* A previous training can be resumed passing the *--resume_training* flag"
      ]
    }
  ],
  "metadata": {
    "accelerator": "GPU",
    "colab": {
      "name": "ffdnet_projet.ipynb",
      "provenance": [],
      "toc_visible": true,
      "include_colab_link": true
    },
    "kernelspec": {
      "display_name": "Python 3 (ipykernel)",
      "language": "python",
      "name": "python3"
    },
    "language_info": {
      "codemirror_mode": {
        "name": "ipython",
        "version": 3
      },
      "file_extension": ".py",
      "mimetype": "text/x-python",
      "name": "python",
      "nbconvert_exporter": "python",
      "pygments_lexer": "ipython3",
      "version": "3.11.0"
    }
  },
  "nbformat": 4,
  "nbformat_minor": 0
}